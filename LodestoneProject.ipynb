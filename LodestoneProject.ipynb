{
 "cells": [
  {
   "cell_type": "code",
   "execution_count": 152,
   "id": "tutorial-trace",
   "metadata": {
    "scrolled": true
   },
   "outputs": [],
   "source": [
    "# 1. Name each sheet/table so they are meaningful standalone.\n",
    "import os\n",
    "os.chdir('C:/Users/ANKIT JAIN') # moving path to where data files are\n",
    "# 1. Rename file\n",
    "path = os.getcwd() # getting current working directory\n",
    "os.rename(path+r'\\Lodestone\\sheetA.csv', path+r'\\Lodestone\\grill_type.csv') # changing SheetA\n",
    "os.rename(path+r'\\Lodestone\\SheetB.csv', path+r'\\Lodestone\\grillTypePerformance.csv') # changing SheetB\n",
    "os.rename(path+r'\\Lodestone\\SheetC.csv', path+r'\\Lodestone\\grillTypeTasteTest.csv') # changing SheetC"
   ]
  },
  {
   "cell_type": "code",
   "execution_count": 184,
   "id": "addressed-daniel",
   "metadata": {},
   "outputs": [
    {
     "data": {
      "text/plain": [
       "<AxesSubplot:xlabel='grill_type'>"
      ]
     },
     "execution_count": 184,
     "metadata": {},
     "output_type": "execute_result"
    },
    {
     "data": {
      "image/png": "[encoded data removed]",
      "text/plain": [
       "<Figure size 720x720 with 1 Axes>"
      ]
     },
     "metadata": {
      "needs_background": "light"
     },
     "output_type": "display_data"
    }
   ],
   "source": [
    "df1 = pd.read_csv('grill_type.csv') # reading the file using pandas\n",
    "# plotting grill type vs all other attributes in SheetA\n",
    "df1.plot(x=\"grill_type\", y=[\"fuel_cost_per_meal\", \"market_share\", \"easiness_to_use\", \"life_span_year\"],\n",
    "        kind=\"bar\", figsize = (10, 10))"
   ]
  },
  {
   "cell_type": "code",
   "execution_count": 186,
   "id": "extraordinary-journalism",
   "metadata": {},
   "outputs": [
    {
     "data": {
      "text/plain": [
       "<AxesSubplot:xlabel='grill_type'>"
      ]
     },
     "execution_count": 186,
     "metadata": {},
     "output_type": "execute_result"
    },
    {
     "data": {
      "image/png": "[encoded data removed]",
      "text/plain": [
       "<Figure size 360x504 with 1 Axes>"
      ]
     },
     "metadata": {
      "needs_background": "light"
     },
     "output_type": "display_data"
    }
   ],
   "source": [
    "# plotting grill type vs pre_heat_time and initial_investment\n",
    "df1.plot(x=\"grill_type\", y=[\"pre_heat_time\", \"initial_investment\"], kind=\"bar\", figsize = (5, 7))"
   ]
  },
  {
   "cell_type": "code",
   "execution_count": 187,
   "id": "sensitive-ambassador",
   "metadata": {},
   "outputs": [
    {
     "data": {
      "text/plain": [
       "1    Propane\n",
       "Name: grill_type, dtype: object"
      ]
     },
     "execution_count": 187,
     "metadata": {},
     "output_type": "execute_result"
    }
   ],
   "source": [
    "# 2. Which grill type is more fuel efficient based on sheet A?\n",
    "import pandas as pd\n",
    "import matplotlib.pyplot as plt\n",
    "os.chdir('C:/Users/ANKIT JAIN/Lodestone') # moving to the file directory with all files \n",
    "df1.loc[df1['fuel_cost_per_meal'] == min(df1['fuel_cost_per_meal']),'grill_type'] # finding the minimum fuel_cost_per_meal\n",
    "\n",
    "# Visualization can be found on 1st graph for visual proof"
   ]
  },
  {
   "cell_type": "code",
   "execution_count": 154,
   "id": "front-rapid",
   "metadata": {},
   "outputs": [
    {
     "data": {
      "text/plain": [
       "1    Propane\n",
       "Name: grill_type, dtype: object"
      ]
     },
     "execution_count": 154,
     "metadata": {},
     "output_type": "execute_result"
    }
   ],
   "source": [
    "# 3. Which grill type has more market share?\n",
    "df1.loc[df1['market_share'] == max(df1['market_share']),'grill_type'] # finding maximum market share for a grill type\n",
    "# Visualization can be found on 1st graph for visual proof"
   ]
  },
  {
   "cell_type": "code",
   "execution_count": 211,
   "id": "realistic-trash",
   "metadata": {
    "scrolled": true
   },
   "outputs": [
    {
     "data": {
      "text/html": [
       "<div>\n",
       "<style scoped>\n",
       "    .dataframe tbody tr th:only-of-type {\n",
       "        vertical-align: middle;\n",
       "    }\n",
       "\n",
       "    .dataframe tbody tr th {\n",
       "        vertical-align: top;\n",
       "    }\n",
       "\n",
       "    .dataframe thead th {\n",
       "        text-align: right;\n",
       "    }\n",
       "</style>\n",
       "<table border=\"1\" class=\"dataframe\">\n",
       "  <thead>\n",
       "    <tr style=\"text-align: right;\">\n",
       "      <th></th>\n",
       "      <th>grill_type</th>\n",
       "      <th>fuel_cost</th>\n",
       "    </tr>\n",
       "  </thead>\n",
       "  <tbody>\n",
       "    <tr>\n",
       "      <th>0</th>\n",
       "      <td>Charcoal</td>\n",
       "      <td>4570.681</td>\n",
       "    </tr>\n",
       "    <tr>\n",
       "      <th>1</th>\n",
       "      <td>Propane</td>\n",
       "      <td>1897.300</td>\n",
       "    </tr>\n",
       "  </tbody>\n",
       "</table>\n",
       "</div>"
      ],
      "text/plain": [
       "  grill_type  fuel_cost\n",
       "0   Charcoal   4570.681\n",
       "1    Propane   1897.300"
      ]
     },
     "execution_count": 211,
     "metadata": {},
     "output_type": "execute_result"
    }
   ],
   "source": [
    "# 4. Based on the cookoff data which grill type cost more fuel on a long run?\n",
    "df2 = pd.read_csv('grillTypePerformance.csv')\n",
    "test = df2.groupby('grill_type').sum()['fuel_cost'] # grouping SheetB o grill type and summing fuel_cost for each grill type\n",
    "test = test.reset_index()\n",
    "test\n",
    "\n",
    "# We saw in part2, that the overall fuel_cost_per_meal is lesser for propane.\n",
    "\n",
    "# We can see, that Propane is the clearly a better choice.\n",
    "# **Note**: As seen in the video though, propane gas needs to be used a lot lot more than charcoal to be able to get \n",
    "# a value of 1.55 which is very rare as per the use by average Americans. So, based on data, it is propane, but based on\n",
    "# actual use, and practicality, we might use charcoal."
   ]
  },
  {
   "cell_type": "code",
   "execution_count": 201,
   "id": "missing-bahamas",
   "metadata": {},
   "outputs": [
    {
     "data": {
      "text/plain": [
       "<AxesSubplot:xlabel='grill_type', ylabel='fuel_cost'>"
      ]
     },
     "execution_count": 201,
     "metadata": {},
     "output_type": "execute_result"
    },
    {
     "data": {
      "image/png": "[encoded data removed]",
      "text/plain": [
       "<Figure size 432x288 with 1 Axes>"
      ]
     },
     "metadata": {
      "needs_background": "light"
     },
     "output_type": "display_data"
    }
   ],
   "source": [
    "# Part 4 Visualization Code\n",
    "import seaborn as sns\n",
    "sns.barplot(x='grill_type', y='fuel_cost', data=test)"
   ]
  },
  {
   "cell_type": "code",
   "execution_count": 205,
   "id": "rising-canal",
   "metadata": {},
   "outputs": [
    {
     "data": {
      "text/html": [
       "<div>\n",
       "<style scoped>\n",
       "    .dataframe tbody tr th:only-of-type {\n",
       "        vertical-align: middle;\n",
       "    }\n",
       "\n",
       "    .dataframe tbody tr th {\n",
       "        vertical-align: top;\n",
       "    }\n",
       "\n",
       "    .dataframe thead th {\n",
       "        text-align: right;\n",
       "    }\n",
       "</style>\n",
       "<table border=\"1\" class=\"dataframe\">\n",
       "  <thead>\n",
       "    <tr style=\"text-align: right;\">\n",
       "      <th></th>\n",
       "      <th>grill_type</th>\n",
       "      <th>item_material</th>\n",
       "      <th>fuel_cost</th>\n",
       "    </tr>\n",
       "  </thead>\n",
       "  <tbody>\n",
       "    <tr>\n",
       "      <th>0</th>\n",
       "      <td>Charcoal</td>\n",
       "      <td>Ground Beef Patty</td>\n",
       "      <td>1592.229</td>\n",
       "    </tr>\n",
       "    <tr>\n",
       "      <th>1</th>\n",
       "      <td>Charcoal</td>\n",
       "      <td>Hotdog</td>\n",
       "      <td>1476.880</td>\n",
       "    </tr>\n",
       "    <tr>\n",
       "      <th>2</th>\n",
       "      <td>Charcoal</td>\n",
       "      <td>Veggie Patty</td>\n",
       "      <td>1501.572</td>\n",
       "    </tr>\n",
       "    <tr>\n",
       "      <th>3</th>\n",
       "      <td>Propane</td>\n",
       "      <td>Ground Beef Patty</td>\n",
       "      <td>686.775</td>\n",
       "    </tr>\n",
       "    <tr>\n",
       "      <th>4</th>\n",
       "      <td>Propane</td>\n",
       "      <td>Hotdog</td>\n",
       "      <td>605.950</td>\n",
       "    </tr>\n",
       "    <tr>\n",
       "      <th>5</th>\n",
       "      <td>Propane</td>\n",
       "      <td>Veggie Patty</td>\n",
       "      <td>604.575</td>\n",
       "    </tr>\n",
       "  </tbody>\n",
       "</table>\n",
       "</div>"
      ],
      "text/plain": [
       "  grill_type      item_material  fuel_cost\n",
       "0   Charcoal  Ground Beef Patty   1592.229\n",
       "1   Charcoal             Hotdog   1476.880\n",
       "2   Charcoal       Veggie Patty   1501.572\n",
       "3    Propane  Ground Beef Patty    686.775\n",
       "4    Propane             Hotdog    605.950\n",
       "5    Propane       Veggie Patty    604.575"
      ]
     },
     "execution_count": 205,
     "metadata": {},
     "output_type": "execute_result"
    },
    {
     "data": {
      "image/png": "[encoded data removed]",
      "text/plain": [
       "<Figure size 487x360 with 1 Axes>"
      ]
     },
     "metadata": {
      "needs_background": "light"
     },
     "output_type": "display_data"
    }
   ],
   "source": [
    "# fuel cost visualization based on each grill type for each item_material\n",
    "test2 = df2.groupby(['grill_type', 'item_material']).sum()['fuel_cost']\n",
    "test2 = test2.reset_index()\n",
    "sns.catplot(data=test2, x='grill_type', y='fuel_cost', hue = 'item_material', kind='bar')\n",
    "test2"
   ]
  },
  {
   "cell_type": "code",
   "execution_count": null,
   "id": "dangerous-xerox",
   "metadata": {},
   "outputs": [],
   "source": [
    "# 5. Considering that the average American grill owner buys a new grill every three years, which grill type\n",
    "# would cost more based on the fuel cost and initial investment?\n",
    "\"\"\"\n",
    "Considering that the average American grill owner buys a new grill every three years, which grill type\n",
    "would cost more based on the fuel cost and initial investment?\n",
    "Considering the data given, we have 2 dollars fuel cost per meal for charcoal and 1.55 dollars for propane, and 91 dollars of \n",
    "initial investment for charcoal as opposed to 139 dollars for Propane. \n",
    "Assuming an individual in the worse case where all meals are prepared either by Charcoal or Propane, has 3 meals a day, and\n",
    "assuming the time span of 3 years:\n",
    "\n",
    "formula = (number_of_days_inayear * number of years * fuel_cost_per_meal * number of meals)\n",
    "\n",
    "total_cost_charcoal = 365*3*2*3 + 91 = 6661 \n",
    "total_cost_propane = 365*3*1.55*3 + 139 = 5230.75\n",
    "\n",
    "So, we have charcoal to be more expensive. Even in long run, we will have propane to be cheaper cost wise.\n",
    "\"\"\""
   ]
  },
  {
   "cell_type": "code",
   "execution_count": 206,
   "id": "reliable-veteran",
   "metadata": {},
   "outputs": [
    {
     "data": {
      "text/plain": [
       "grill_type\n",
       "Charcoal   -17.8\n",
       "Propane     21.0\n",
       "Name: user_satisfaction, dtype: float64"
      ]
     },
     "execution_count": 206,
     "metadata": {},
     "output_type": "execute_result"
    }
   ],
   "source": [
    "# 6 a. Which grill type is easier to use based on the user satisfaction score?\n",
    "df2.groupby('grill_type').sum()['user_satisfaction']\n",
    "# Clearly, propane is better"
   ]
  },
  {
   "cell_type": "code",
   "execution_count": 210,
   "id": "significant-quest",
   "metadata": {},
   "outputs": [
    {
     "data": {
      "text/html": [
       "<div>\n",
       "<style scoped>\n",
       "    .dataframe tbody tr th:only-of-type {\n",
       "        vertical-align: middle;\n",
       "    }\n",
       "\n",
       "    .dataframe tbody tr th {\n",
       "        vertical-align: top;\n",
       "    }\n",
       "\n",
       "    .dataframe thead th {\n",
       "        text-align: right;\n",
       "    }\n",
       "</style>\n",
       "<table border=\"1\" class=\"dataframe\">\n",
       "  <thead>\n",
       "    <tr style=\"text-align: right;\">\n",
       "      <th></th>\n",
       "      <th>grill_type</th>\n",
       "      <th>item_material</th>\n",
       "      <th>thumbs_up_score</th>\n",
       "      <th>guess_grill_correct</th>\n",
       "    </tr>\n",
       "  </thead>\n",
       "  <tbody>\n",
       "    <tr>\n",
       "      <th>0</th>\n",
       "      <td>Charcoal</td>\n",
       "      <td>Ground Beef Patty</td>\n",
       "      <td>21.5</td>\n",
       "      <td>102</td>\n",
       "    </tr>\n",
       "    <tr>\n",
       "      <th>1</th>\n",
       "      <td>Charcoal</td>\n",
       "      <td>Hotdog</td>\n",
       "      <td>623.3</td>\n",
       "      <td>113</td>\n",
       "    </tr>\n",
       "    <tr>\n",
       "      <th>2</th>\n",
       "      <td>Charcoal</td>\n",
       "      <td>Veggie Patty</td>\n",
       "      <td>19.3</td>\n",
       "      <td>107</td>\n",
       "    </tr>\n",
       "    <tr>\n",
       "      <th>3</th>\n",
       "      <td>Propane</td>\n",
       "      <td>Ground Beef Patty</td>\n",
       "      <td>670.4</td>\n",
       "      <td>116</td>\n",
       "    </tr>\n",
       "    <tr>\n",
       "      <th>4</th>\n",
       "      <td>Propane</td>\n",
       "      <td>Hotdog</td>\n",
       "      <td>65.9</td>\n",
       "      <td>99</td>\n",
       "    </tr>\n",
       "    <tr>\n",
       "      <th>5</th>\n",
       "      <td>Propane</td>\n",
       "      <td>Veggie Patty</td>\n",
       "      <td>64.6</td>\n",
       "      <td>106</td>\n",
       "    </tr>\n",
       "  </tbody>\n",
       "</table>\n",
       "</div>"
      ],
      "text/plain": [
       "  grill_type      item_material  thumbs_up_score  guess_grill_correct\n",
       "0   Charcoal  Ground Beef Patty             21.5                  102\n",
       "1   Charcoal             Hotdog            623.3                  113\n",
       "2   Charcoal       Veggie Patty             19.3                  107\n",
       "3    Propane  Ground Beef Patty            670.4                  116\n",
       "4    Propane             Hotdog             65.9                   99\n",
       "5    Propane       Veggie Patty             64.6                  106"
      ]
     },
     "execution_count": 210,
     "metadata": {},
     "output_type": "execute_result"
    },
    {
     "data": {
      "image/png": "[encoded data removed]",
      "text/plain": [
       "<Figure size 487x360 with 1 Axes>"
      ]
     },
     "metadata": {
      "needs_background": "light"
     },
     "output_type": "display_data"
    }
   ],
   "source": [
    "# 6 b. Based on data, which grill is preferred?\n",
    "df3 = pd.read_csv('grillTypeTasteTest.csv')\n",
    "x = df3.groupby(['grill_type', 'item_material']).sum()[['thumbs_up_score', 'guess_grill_correct']]\n",
    "x = x.reset_index()\n",
    "sns.catplot(data=x, x='grill_type', y='thumbs_up_score', hue = 'item_material', kind='bar')\n",
    "x\n",
    "\"\"\"\n",
    "So, we can see from the table and the graph, Ground_beef patty is better suited and voted for Propane, Hot dog is \n",
    "highly voted for charcoal and Veggie patty is the closest in terms of votes. So, there is no clear cut or conclusive evidence \n",
    "on which type of grill did the best. It is a close bet.\n",
    "\"\"\"\n",
    "\n",
    "# # 6 c. What factors might play a role?\n",
    "# \"\"\"\n",
    "# The factors that mainly need to be taken into account are Cost as per life span, ease of use, taste. These are the main factors. \n",
    "# Additionally, factors like life time to pre-heat, cool/increase temperature, looks might matter, availability of \n",
    "# product.\n",
    "# \"\"\"\n",
    "\n",
    "\n"
   ]
  },
  {
   "cell_type": "code",
   "execution_count": 157,
   "id": "coupled-stupid",
   "metadata": {},
   "outputs": [],
   "source": [
    "# 7. Please generate an aggregated dataset to present your conclusions\n",
    "mergedA_B = pd.merge(df1, df2, on='grill_type') # merging SheetA and SheetB\n",
    "mergedA_B_C = pd.merge(mergedA_B, df3) # merging table resulated from previosu merge and SheetC"
   ]
  },
  {
   "cell_type": "code",
   "execution_count": 159,
   "id": "treated-diagnosis",
   "metadata": {},
   "outputs": [
    {
     "data": {
      "text/html": [
       "<div>\n",
       "<style scoped>\n",
       "    .dataframe tbody tr th:only-of-type {\n",
       "        vertical-align: middle;\n",
       "    }\n",
       "\n",
       "    .dataframe tbody tr th {\n",
       "        vertical-align: top;\n",
       "    }\n",
       "\n",
       "    .dataframe thead th {\n",
       "        text-align: right;\n",
       "    }\n",
       "</style>\n",
       "<table border=\"1\" class=\"dataframe\">\n",
       "  <thead>\n",
       "    <tr style=\"text-align: right;\">\n",
       "      <th></th>\n",
       "      <th></th>\n",
       "      <th>pre_heat_time</th>\n",
       "      <th>fuel_cost_per_meal</th>\n",
       "      <th>market_share</th>\n",
       "      <th>easiness_to_use</th>\n",
       "      <th>initial_investment</th>\n",
       "      <th>user_satisfaction</th>\n",
       "      <th>fuel_cost</th>\n",
       "      <th>thumbs_up_score</th>\n",
       "    </tr>\n",
       "    <tr>\n",
       "      <th>grill_type</th>\n",
       "      <th>item_material</th>\n",
       "      <th></th>\n",
       "      <th></th>\n",
       "      <th></th>\n",
       "      <th></th>\n",
       "      <th></th>\n",
       "      <th></th>\n",
       "      <th></th>\n",
       "      <th></th>\n",
       "    </tr>\n",
       "  </thead>\n",
       "  <tbody>\n",
       "    <tr>\n",
       "      <th rowspan=\"3\" valign=\"top\">Charcoal</th>\n",
       "      <th>Ground Beef Patty</th>\n",
       "      <td>576000</td>\n",
       "      <td>960.0</td>\n",
       "      <td>211.2</td>\n",
       "      <td>-480</td>\n",
       "      <td>43680</td>\n",
       "      <td>-768.0</td>\n",
       "      <td>191067.48</td>\n",
       "      <td>86.0</td>\n",
       "    </tr>\n",
       "    <tr>\n",
       "      <th>Hotdog</th>\n",
       "      <td>576000</td>\n",
       "      <td>960.0</td>\n",
       "      <td>211.2</td>\n",
       "      <td>-480</td>\n",
       "      <td>43680</td>\n",
       "      <td>-732.0</td>\n",
       "      <td>177225.60</td>\n",
       "      <td>2493.2</td>\n",
       "    </tr>\n",
       "    <tr>\n",
       "      <th>Veggie Patty</th>\n",
       "      <td>576000</td>\n",
       "      <td>960.0</td>\n",
       "      <td>211.2</td>\n",
       "      <td>-480</td>\n",
       "      <td>43680</td>\n",
       "      <td>-636.0</td>\n",
       "      <td>180188.64</td>\n",
       "      <td>77.2</td>\n",
       "    </tr>\n",
       "    <tr>\n",
       "      <th rowspan=\"3\" valign=\"top\">Propane</th>\n",
       "      <th>Ground Beef Patty</th>\n",
       "      <td>230400</td>\n",
       "      <td>744.0</td>\n",
       "      <td>307.2</td>\n",
       "      <td>960</td>\n",
       "      <td>66720</td>\n",
       "      <td>1032.0</td>\n",
       "      <td>82413.00</td>\n",
       "      <td>2681.6</td>\n",
       "    </tr>\n",
       "    <tr>\n",
       "      <th>Hotdog</th>\n",
       "      <td>230400</td>\n",
       "      <td>744.0</td>\n",
       "      <td>307.2</td>\n",
       "      <td>960</td>\n",
       "      <td>66720</td>\n",
       "      <td>744.0</td>\n",
       "      <td>72714.00</td>\n",
       "      <td>263.6</td>\n",
       "    </tr>\n",
       "    <tr>\n",
       "      <th>Veggie Patty</th>\n",
       "      <td>230400</td>\n",
       "      <td>744.0</td>\n",
       "      <td>307.2</td>\n",
       "      <td>960</td>\n",
       "      <td>66720</td>\n",
       "      <td>744.0</td>\n",
       "      <td>72549.00</td>\n",
       "      <td>258.4</td>\n",
       "    </tr>\n",
       "  </tbody>\n",
       "</table>\n",
       "</div>"
      ],
      "text/plain": [
       "                              pre_heat_time  fuel_cost_per_meal  market_share  \\\n",
       "grill_type item_material                                                        \n",
       "Charcoal   Ground Beef Patty         576000               960.0         211.2   \n",
       "           Hotdog                    576000               960.0         211.2   \n",
       "           Veggie Patty              576000               960.0         211.2   \n",
       "Propane    Ground Beef Patty         230400               744.0         307.2   \n",
       "           Hotdog                    230400               744.0         307.2   \n",
       "           Veggie Patty              230400               744.0         307.2   \n",
       "\n",
       "                              easiness_to_use  initial_investment  \\\n",
       "grill_type item_material                                            \n",
       "Charcoal   Ground Beef Patty             -480               43680   \n",
       "           Hotdog                        -480               43680   \n",
       "           Veggie Patty                  -480               43680   \n",
       "Propane    Ground Beef Patty              960               66720   \n",
       "           Hotdog                         960               66720   \n",
       "           Veggie Patty                   960               66720   \n",
       "\n",
       "                              user_satisfaction  fuel_cost  thumbs_up_score  \n",
       "grill_type item_material                                                     \n",
       "Charcoal   Ground Beef Patty             -768.0  191067.48             86.0  \n",
       "           Hotdog                        -732.0  177225.60           2493.2  \n",
       "           Veggie Patty                  -636.0  180188.64             77.2  \n",
       "Propane    Ground Beef Patty             1032.0   82413.00           2681.6  \n",
       "           Hotdog                         744.0   72714.00            263.6  \n",
       "           Veggie Patty                   744.0   72549.00            258.4  "
      ]
     },
     "execution_count": 159,
     "metadata": {},
     "output_type": "execute_result"
    }
   ],
   "source": [
    "df4 = mergedA_B_C.groupby(['grill_type', 'item_material']).sum()[['pre_heat_time', 'fuel_cost_per_meal', 'market_share',\n",
    "       'easiness_to_use', 'initial_investment',\n",
    "       'user_satisfaction', 'fuel_cost',\n",
    "       'thumbs_up_score']] \n",
    "# grouping the new merged data on grill type, and item_material and summing the respective columns as mentioned above\n",
    "\n",
    "df4\n",
    "\n",
    "# \"\"\"\n",
    "# We see a number of conclusions that we can make from this table we have below. The pre-heat-time is lower for propane \n",
    "# gas, the fuel-cost-per-meal is lower for propane gas, the market share is more than or more accepted in market, the ease-of-use\n",
    "# is way better for propane gas, the initial investment is higher than charcoal, user satisfaction is easily better for \n",
    "# propane based items, fuel cost is lower for prpane gas and thumbs-up-score is more for again, propane based products.\n",
    "\n",
    "# So, overall, the propane based products are better when considered as a whole and in aggragated manner. But when we see the \n",
    "# individual item_material per grill_type and taste scores are very in-conclusive as sometimes gas based grilled products are \n",
    "# better and sometimes propane based food items, its not clear which one actually stands out.\n",
    "# \"\"\""
   ]
  },
  {
   "cell_type": "code",
   "execution_count": null,
   "id": "romantic-alias",
   "metadata": {},
   "outputs": [],
   "source": [
    "# 8. Are your recommendations to the manufacturer different to recommendations you’d make to the user?\n",
    "\"\"\"\n",
    "Being the client to a specific grill type manufacturer, I would obviously want to make money by selling more devices of a\n",
    "particular type. I would be honest and look at the previous sales, and forecasted sales for upcoming years. If say, the propane\n",
    "device isn't sellig well, although they migh b cheaper and might as well be giving better taste and usage results, I would \n",
    "obviously recommend users the Propane but the manufacturers need to be told about the facts in numbers and as them to \n",
    "maybe slow or reduce production if the sales of a particular type are low even if then the results and market says something\n",
    "else. My main goal is to make money on th devices I am selling and at the end of the day, ask the manufacturer of the device\n",
    "that is selling more. But will surely recommend the users whcih one are giving better market results. So, it is a tradee off\n",
    "and yes, my recommendations will be different to the user and the amnufacturer.\n",
    "\"\"\""
   ]
  },
  {
   "cell_type": "code",
   "execution_count": 144,
   "id": "specific-thanksgiving",
   "metadata": {},
   "outputs": [
    {
     "name": "stdout",
     "output_type": "stream",
     "text": [
      "[1, 10, 10, 11, 12, 13, 14, 15, 16, 17, 18, 19, 11, 20, 21, 22, 23, 24, 25, 26, 27, 28, 29, 12, 30, 1, 2, 3, 4, 5, 6, 7, 8, 9, 13, 10, 11, 12, 13, 14, 15, 16, 17, 18, 19, 14, 20, 21, 22, 23, 24, 25, 26, 27, 28, 29, 15, 30, 1, 2, 3, 4, 5, 6, 7, 8, 9, 16, 10, 11, 12, 13, 14, 15, 16, 17, 18, 19, 17, 20, 21, 22, 23, 24, 25, 26, 27, 28, 29, 18, 30, 1, 2, 3, 4, 5, 6, 7, 8, 9, 19, 10, 11, 12, 13, 14, 15, 16, 17, 18, 19, 2, 20, 20, 21, 22, 23, 24, 25, 26, 27, 28, 29, 21, 30, 1, 2, 3, 4, 5, 6, 7, 8, 9, 22, 10, 11, 12, 13, 14, 15, 16, 17, 18, 19, 23, 20, 21, 22, 23, 24, 25, 26, 27, 28, 29, 24, 30, 1, 2, 3, 4, 5, 6, 7, 8, 9, 25, 10, 11, 12, 13, 14, 15, 16, 17, 18, 19, 26, 20, 21, 22, 23, 24, 25, 26, 27, 28, 29, 27, 30, 1, 2, 3, 4, 5, 6, 7, 8, 9, 28, 10, 11, 12, 13, 14, 15, 16, 17, 18, 19, 29, 20, 21, 22, 23, 24, 25, 26, 27, 28, 29, 3, 30, 30, 1, 2, 3, 4, 5, 6, 7, 8, 9, 1, 10, 11, 12, 13, 14, 15, 16, 17, 18, 19, 2, 20, 21, 22, 23, 24, 25, 26, 27, 28, 29, 3, 30, 1, 2, 3, 4, 5, 6, 7, 8, 9, 4, 10, 11, 12, 13, 14, 15, 16, 17, 18, 19, 5, 20, 21, 22, 23, 24, 25, 26, 27, 28, 29, 6, 30, 1, 2, 3, 4, 5, 6, 7, 8, 9, 7, 10, 11, 12, 13, 14, 15, 16, 17, 18, 19, 8, 20, 21, 22, 23, 24, 25, 26, 27, 28, 29, 9, 30, 1, 2, 3, 4, 5, 6, 7, 8, 9, 4, 10, 10, 11, 12, 13, 14, 15, 16, 17, 18, 19, 11, 20, 21, 22, 23, 24, 25, 26, 27, 28, 29, 12, 30, 1, 2, 3, 4, 5, 6, 7, 8, 9, 13, 10, 11, 12, 13, 14, 15, 16, 17, 18, 19, 14, 20, 21, 22, 23, 24, 25, 26, 27, 28, 29, 15, 30, 1, 2, 3, 4, 5, 6, 7, 8, 9, 16, 10, 11, 12, 13, 14, 15, 16, 17, 18, 19, 17, 20, 21, 22, 23, 24, 25, 26, 27, 28, 29, 18, 30, 1, 2, 3, 4, 5, 6, 7, 8, 9, 19, 10, 11, 12, 13, 14, 15, 16, 17, 18, 19, 5, 20, 20, 21, 22, 23, 24, 25, 26, 27, 28, 29, 21, 30, 1, 2, 3, 4, 5, 6, 7, 8, 9, 22, 10, 11, 12, 13, 14, 15, 16, 17, 18, 19, 23, 20, 21, 22, 23, 24, 25, 26, 27, 28, 29, 24, 30, 1, 2, 3, 4, 5, 6, 7, 8, 9, 25, 10, 11, 12, 13, 14, 15, 16, 17, 18, 19, 26, 20, 21, 22, 23, 24, 25, 26, 27, 28, 29, 27, 30, 1, 2, 3, 4, 5, 6, 7, 8, 9, 28, 10, 11, 12, 13, 14, 15, 16, 17, 18, 19, 29, 20, 21, 22, 23, 24, 25, 26, 27, 28, 29, 6, 30, 30, 1, 2, 3, 4, 5, 6, 7, 8, 9, 1, 10, 11, 12, 13, 14, 15, 16, 17, 18, 19, 2, 20, 21, 22, 23, 24, 25, 26, 27, 28, 29, 3, 30, 1, 2, 3, 4, 5, 6, 7, 8, 9, 4, 10, 11, 12, 13, 14, 15, 16, 17, 18, 19, 5, 20, 21, 22, 23, 24, 25, 26, 27, 28, 29, 6, 30, 1, 2, 3, 4, 5, 6, 7, 8, 9, 7, 10, 11, 12, 13, 14, 15, 16, 17, 18, 19, 8, 20, 21, 22, 23, 24, 25, 26, 27, 28, 29, 9, 30, 1, 2, 3, 4, 5, 6, 7, 8, 9, 7, 10, 10, 11, 12, 13, 14, 15, 16, 17, 18, 19, 11, 20, 21, 22, 23, 24, 25, 26, 27, 28, 29, 12, 30, 13, 14, 15, 16, 17, 18, 19, 8, 20, 21, 22, 23, 24, 25, 26, 27, 28, 29, 9, 30, 1, 2, 3, 4, 5, 6, 7, 8, 9] ['Hotdog', 'Hotdog', 'Hotdog', 'Hotdog', 'Hotdog', 'Hotdog', 'Hotdog', 'Hotdog', 'Hotdog', 'Hotdog', 'Hotdog', 'Hotdog', 'Hotdog', 'Hotdog', 'Hotdog', 'Hotdog', 'Hotdog', 'Hotdog', 'Hotdog', 'Hotdog', 'Hotdog', 'Hotdog', 'Hotdog', 'Hotdog', 'Hotdog', 'Hotdog', 'Hotdog', 'Hotdog', 'Hotdog', 'Hotdog', 'Hotdog', 'Hotdog', 'Hotdog', 'Hotdog', 'Hotdog', 'Hotdog', 'Hotdog', 'Hotdog', 'Hotdog', 'Hotdog', 'Hotdog', 'Hotdog', 'Hotdog', 'Hotdog', 'Hotdog', 'Hotdog', 'Hotdog', 'Hotdog', 'Hotdog', 'Hotdog', 'Hotdog', 'Hotdog', 'Hotdog', 'Hotdog', 'Hotdog', 'Hotdog', 'Hotdog', 'Hotdog', 'Hotdog', 'Hotdog', 'Hotdog', 'Hotdog', 'Hotdog', 'Hotdog', 'Hotdog', 'Hotdog', 'Hotdog', 'Hotdog', 'Hotdog', 'Hotdog', 'Hotdog', 'Hotdog', 'Hotdog', 'Hotdog', 'Hotdog', 'Hotdog', 'Hotdog', 'Hotdog', 'Hotdog', 'Hotdog', 'Hotdog', 'Hotdog', 'Hotdog', 'Hotdog', 'Hotdog', 'Hotdog', 'Hotdog', 'Hotdog', 'Hotdog', 'Hotdog', 'Hotdog', 'Hotdog', 'Hotdog', 'Hotdog', 'Hotdog', 'Hotdog', 'Hotdog', 'Hotdog', 'Hotdog', 'Hotdog', 'Hotdog', 'Hotdog', 'Hotdog', 'Hotdog', 'Hotdog', 'Hotdog', 'Hotdog', 'Hotdog', 'Hotdog', 'Hotdog', 'Hotdog', 'Hotdog', 'Hotdog', 'Hotdog', 'Hotdog', 'Hotdog', 'Hotdog', 'Hotdog', 'Hotdog', 'Hotdog', 'Hotdog', 'Hotdog', 'Hotdog', 'Hotdog', 'Hotdog', 'Hotdog', 'Hotdog', 'Hotdog', 'Hotdog', 'Hotdog', 'Hotdog', 'Hotdog', 'Hotdog', 'Hotdog', 'Hotdog', 'Hotdog', 'Hotdog', 'Hotdog', 'Hotdog', 'Hotdog', 'Hotdog', 'Hotdog', 'Hotdog', 'Hotdog', 'Hotdog', 'Hotdog', 'Hotdog', 'Hotdog', 'Hotdog', 'Hotdog', 'Hotdog', 'Hotdog', 'Hotdog', 'Hotdog', 'Hotdog', 'Hotdog', 'Hotdog', 'Hotdog', 'Veggie Patty', 'Veggie Patty', 'Veggie Patty', 'Veggie Patty', 'Veggie Patty', 'Veggie Patty', 'Veggie Patty', 'Veggie Patty', 'Veggie Patty', 'Hotdog', 'Veggie Patty', 'Veggie Patty', 'Veggie Patty', 'Veggie Patty', 'Veggie Patty', 'Veggie Patty', 'Veggie Patty', 'Veggie Patty', 'Veggie Patty', 'Veggie Patty', 'Hotdog', 'Veggie Patty', 'Veggie Patty', 'Veggie Patty', 'Veggie Patty', 'Veggie Patty', 'Veggie Patty', 'Veggie Patty', 'Veggie Patty', 'Veggie Patty', 'Veggie Patty', 'Hotdog', 'Veggie Patty', 'Veggie Patty', 'Veggie Patty', 'Veggie Patty', 'Veggie Patty', 'Veggie Patty', 'Veggie Patty', 'Veggie Patty', 'Veggie Patty', 'Veggie Patty', 'Hotdog', 'Veggie Patty', 'Veggie Patty', 'Veggie Patty', 'Veggie Patty', 'Veggie Patty', 'Veggie Patty', 'Veggie Patty', 'Veggie Patty', 'Veggie Patty', 'Veggie Patty', 'Hotdog', 'Veggie Patty', 'Veggie Patty', 'Veggie Patty', 'Veggie Patty', 'Veggie Patty', 'Veggie Patty', 'Veggie Patty', 'Veggie Patty', 'Veggie Patty', 'Veggie Patty', 'Hotdog', 'Hotdog', 'Veggie Patty', 'Veggie Patty', 'Veggie Patty', 'Veggie Patty', 'Veggie Patty', 'Veggie Patty', 'Veggie Patty', 'Veggie Patty', 'Veggie Patty', 'Veggie Patty', 'Hotdog', 'Veggie Patty', 'Veggie Patty', 'Veggie Patty', 'Veggie Patty', 'Veggie Patty', 'Veggie Patty', 'Veggie Patty', 'Veggie Patty', 'Veggie Patty', 'Veggie Patty', 'Hotdog', 'Veggie Patty', 'Veggie Patty', 'Veggie Patty', 'Veggie Patty', 'Veggie Patty', 'Veggie Patty', 'Veggie Patty', 'Veggie Patty', 'Veggie Patty', 'Veggie Patty', 'Hotdog', 'Veggie Patty', 'Veggie Patty', 'Veggie Patty', 'Veggie Patty', 'Veggie Patty', 'Veggie Patty', 'Veggie Patty', 'Veggie Patty', 'Veggie Patty', 'Veggie Patty', 'Hotdog', 'Veggie Patty', 'Veggie Patty', 'Veggie Patty', 'Veggie Patty', 'Veggie Patty', 'Veggie Patty', 'Veggie Patty', 'Veggie Patty', 'Veggie Patty', 'Veggie Patty', 'Hotdog', 'Veggie Patty', 'Veggie Patty', 'Veggie Patty', 'Veggie Patty', 'Veggie Patty', 'Veggie Patty', 'Veggie Patty', 'Veggie Patty', 'Veggie Patty', 'Veggie Patty', 'Hotdog', 'Veggie Patty', 'Veggie Patty', 'Veggie Patty', 'Veggie Patty', 'Veggie Patty', 'Veggie Patty', 'Veggie Patty', 'Veggie Patty', 'Veggie Patty', 'Veggie Patty', 'Hotdog', 'Veggie Patty', 'Veggie Patty', 'Veggie Patty', 'Veggie Patty', 'Veggie Patty', 'Veggie Patty', 'Veggie Patty', 'Veggie Patty', 'Veggie Patty', 'Veggie Patty', 'Hotdog', 'Veggie Patty', 'Veggie Patty', 'Veggie Patty', 'Veggie Patty', 'Veggie Patty', 'Veggie Patty', 'Veggie Patty', 'Veggie Patty', 'Veggie Patty', 'Veggie Patty', 'Hotdog', 'Veggie Patty', 'Veggie Patty', 'Veggie Patty', 'Veggie Patty', 'Veggie Patty', 'Veggie Patty', 'Veggie Patty', 'Veggie Patty', 'Veggie Patty', 'Veggie Patty', 'Hotdog', 'Hotdog', 'Veggie Patty', 'Veggie Patty', 'Veggie Patty', 'Veggie Patty', 'Veggie Patty', 'Veggie Patty', 'Veggie Patty', 'Veggie Patty', 'Veggie Patty', 'Veggie Patty', 'Hotdog', 'Veggie Patty', 'Veggie Patty', 'Veggie Patty', 'Veggie Patty', 'Veggie Patty', 'Veggie Patty', 'Veggie Patty', 'Veggie Patty', 'Veggie Patty', 'Veggie Patty', 'Hotdog', 'Veggie Patty', 'Veggie Patty', 'Veggie Patty', 'Veggie Patty', 'Veggie Patty', 'Veggie Patty', 'Veggie Patty', 'Veggie Patty', 'Veggie Patty', 'Veggie Patty', 'Hotdog', 'Veggie Patty', 'Veggie Patty', 'Veggie Patty', 'Veggie Patty', 'Veggie Patty', 'Veggie Patty', 'Veggie Patty', 'Veggie Patty', 'Veggie Patty', 'Veggie Patty', 'Hotdog', 'Veggie Patty', 'Veggie Patty', 'Veggie Patty', 'Veggie Patty', 'Veggie Patty', 'Veggie Patty', 'Veggie Patty', 'Veggie Patty', 'Veggie Patty', 'Veggie Patty', 'Hotdog', 'Veggie Patty', 'Veggie Patty', 'Veggie Patty', 'Veggie Patty', 'Veggie Patty', 'Veggie Patty', 'Veggie Patty', 'Veggie Patty', 'Veggie Patty', 'Veggie Patty', 'Hotdog', 'Veggie Patty', 'Veggie Patty', 'Veggie Patty', 'Veggie Patty', 'Veggie Patty', 'Veggie Patty', 'Veggie Patty', 'Veggie Patty', 'Veggie Patty', 'Veggie Patty', 'Hotdog', 'Veggie Patty', 'Veggie Patty', 'Veggie Patty', 'Veggie Patty', 'Veggie Patty', 'Veggie Patty', 'Veggie Patty', 'Veggie Patty', 'Veggie Patty', 'Veggie Patty', 'Hotdog', 'Veggie Patty', 'Ground Beef Patty', 'Ground Beef Patty', 'Ground Beef Patty', 'Ground Beef Patty', 'Ground Beef Patty', 'Ground Beef Patty', 'Ground Beef Patty', 'Ground Beef Patty', 'Ground Beef Patty', 'Hotdog', 'Ground Beef Patty', 'Ground Beef Patty', 'Ground Beef Patty', 'Ground Beef Patty', 'Ground Beef Patty', 'Ground Beef Patty', 'Ground Beef Patty', 'Ground Beef Patty', 'Ground Beef Patty', 'Ground Beef Patty', 'Hotdog', 'Hotdog', 'Ground Beef Patty', 'Ground Beef Patty', 'Ground Beef Patty', 'Ground Beef Patty', 'Ground Beef Patty', 'Ground Beef Patty', 'Ground Beef Patty', 'Ground Beef Patty', 'Ground Beef Patty', 'Ground Beef Patty', 'Hotdog', 'Ground Beef Patty', 'Ground Beef Patty', 'Ground Beef Patty', 'Ground Beef Patty', 'Ground Beef Patty', 'Ground Beef Patty', 'Ground Beef Patty', 'Ground Beef Patty', 'Ground Beef Patty', 'Ground Beef Patty', 'Hotdog', 'Ground Beef Patty', 'Ground Beef Patty', 'Ground Beef Patty', 'Ground Beef Patty', 'Ground Beef Patty', 'Ground Beef Patty', 'Ground Beef Patty', 'Ground Beef Patty', 'Ground Beef Patty', 'Ground Beef Patty', 'Hotdog', 'Ground Beef Patty', 'Ground Beef Patty', 'Ground Beef Patty', 'Ground Beef Patty', 'Ground Beef Patty', 'Ground Beef Patty', 'Ground Beef Patty', 'Ground Beef Patty', 'Ground Beef Patty', 'Ground Beef Patty', 'Hotdog', 'Ground Beef Patty', 'Ground Beef Patty', 'Ground Beef Patty', 'Ground Beef Patty', 'Ground Beef Patty', 'Ground Beef Patty', 'Ground Beef Patty', 'Ground Beef Patty', 'Ground Beef Patty', 'Ground Beef Patty', 'Hotdog', 'Ground Beef Patty', 'Ground Beef Patty', 'Ground Beef Patty', 'Ground Beef Patty', 'Ground Beef Patty', 'Ground Beef Patty', 'Ground Beef Patty', 'Ground Beef Patty', 'Ground Beef Patty', 'Ground Beef Patty', 'Hotdog', 'Ground Beef Patty', 'Ground Beef Patty', 'Ground Beef Patty', 'Ground Beef Patty', 'Ground Beef Patty', 'Ground Beef Patty', 'Ground Beef Patty', 'Ground Beef Patty', 'Ground Beef Patty', 'Ground Beef Patty', 'Hotdog', 'Ground Beef Patty', 'Ground Beef Patty', 'Ground Beef Patty', 'Ground Beef Patty', 'Ground Beef Patty', 'Ground Beef Patty', 'Ground Beef Patty', 'Ground Beef Patty', 'Ground Beef Patty', 'Ground Beef Patty', 'Hotdog', 'Ground Beef Patty', 'Ground Beef Patty', 'Ground Beef Patty', 'Ground Beef Patty', 'Ground Beef Patty', 'Ground Beef Patty', 'Ground Beef Patty', 'Ground Beef Patty', 'Ground Beef Patty', 'Ground Beef Patty', 'Hotdog', 'Ground Beef Patty', 'Ground Beef Patty', 'Ground Beef Patty', 'Ground Beef Patty', 'Ground Beef Patty', 'Ground Beef Patty', 'Ground Beef Patty', 'Ground Beef Patty', 'Ground Beef Patty', 'Ground Beef Patty', 'Hotdog', 'Hotdog', 'Ground Beef Patty', 'Ground Beef Patty', 'Ground Beef Patty', 'Ground Beef Patty', 'Ground Beef Patty', 'Ground Beef Patty', 'Ground Beef Patty', 'Ground Beef Patty', 'Ground Beef Patty', 'Ground Beef Patty', 'Hotdog', 'Ground Beef Patty', 'Ground Beef Patty', 'Ground Beef Patty', 'Ground Beef Patty', 'Ground Beef Patty', 'Ground Beef Patty', 'Ground Beef Patty', 'Ground Beef Patty', 'Ground Beef Patty', 'Ground Beef Patty', 'Hotdog', 'Ground Beef Patty', 'Ground Beef Patty', 'Ground Beef Patty', 'Ground Beef Patty', 'Ground Beef Patty', 'Ground Beef Patty', 'Ground Beef Patty', 'Ground Beef Patty', 'Ground Beef Patty', 'Ground Beef Patty', 'Hotdog', 'Ground Beef Patty', 'Ground Beef Patty', 'Ground Beef Patty', 'Ground Beef Patty', 'Ground Beef Patty', 'Ground Beef Patty', 'Ground Beef Patty', 'Ground Beef Patty', 'Ground Beef Patty', 'Ground Beef Patty', 'Hotdog', 'Ground Beef Patty', 'Ground Beef Patty', 'Ground Beef Patty', 'Ground Beef Patty', 'Ground Beef Patty', 'Ground Beef Patty', 'Ground Beef Patty', 'Ground Beef Patty', 'Ground Beef Patty', 'Ground Beef Patty', 'Hotdog', 'Ground Beef Patty', 'Ground Beef Patty', 'Ground Beef Patty', 'Ground Beef Patty', 'Ground Beef Patty', 'Ground Beef Patty', 'Ground Beef Patty', 'Ground Beef Patty', 'Ground Beef Patty', 'Ground Beef Patty', 'Hotdog', 'Ground Beef Patty', 'Ground Beef Patty', 'Ground Beef Patty', 'Ground Beef Patty', 'Ground Beef Patty', 'Ground Beef Patty', 'Ground Beef Patty', 'Ground Beef Patty', 'Ground Beef Patty', 'Ground Beef Patty', 'Hotdog', 'Ground Beef Patty', 'Ground Beef Patty', 'Ground Beef Patty', 'Ground Beef Patty', 'Ground Beef Patty', 'Ground Beef Patty', 'Ground Beef Patty', 'Ground Beef Patty', 'Ground Beef Patty', 'Ground Beef Patty', 'Hotdog', 'Ground Beef Patty', 'Ground Beef Patty', 'Ground Beef Patty', 'Ground Beef Patty', 'Ground Beef Patty', 'Ground Beef Patty', 'Ground Beef Patty', 'Ground Beef Patty', 'Ground Beef Patty', 'Ground Beef Patty', 'Hotdog', 'Ground Beef Patty', 'Ground Beef Patty', 'Ground Beef Patty', 'Ground Beef Patty', 'Ground Beef Patty', 'Ground Beef Patty', 'Ground Beef Patty', 'Ground Beef Patty', 'Ground Beef Patty', 'Ground Beef Patty', 'Hotdog', 'Hotdog', 'Ground Beef Patty', 'Ground Beef Patty', 'Ground Beef Patty', 'Ground Beef Patty', 'Ground Beef Patty', 'Ground Beef Patty', 'Ground Beef Patty', 'Ground Beef Patty', 'Ground Beef Patty', 'Ground Beef Patty', 'Hotdog', 'Ground Beef Patty', 'Ground Beef Patty', 'Ground Beef Patty', 'Ground Beef Patty', 'Ground Beef Patty', 'Ground Beef Patty', 'Ground Beef Patty', 'Ground Beef Patty', 'Ground Beef Patty', 'Ground Beef Patty', 'Hotdog', 'Ground Beef Patty', 'Hotdog', 'Hotdog', 'Hotdog', 'Hotdog', 'Hotdog', 'Hotdog', 'Hotdog', 'Hotdog', 'Hotdog', 'Hotdog', 'Hotdog', 'Hotdog', 'Hotdog', 'Hotdog', 'Hotdog', 'Hotdog', 'Hotdog', 'Hotdog', 'Hotdog', 'Hotdog', 'Hotdog', 'Hotdog', 'Hotdog', 'Hotdog', 'Hotdog', 'Hotdog', 'Hotdog', 'Hotdog', 'Hotdog'] ['false', 'true', 'true', 'false', 'true', 'false', 'true', 'false', 'true', 'false', 'true', 'false', 'false', 'true', 'false', 'true', 'false', 'true', 'false', 'true', 'false', 'true', 'false', 'true', 'true', 'false', 'true', 'false', 'true', 'false', 'true', 'false', 'true', 'false', 'false', 'true', 'false', 'true', 'false', 'true', 'false', 'true', 'false', 'true', 'false', 'true', 'true', 'false', 'true', 'false', 'true', 'false', 'true', 'false', 'true', 'false', 'false', 'true', 'false', 'true', 'false', 'true', 'false', 'true', 'false', 'true', 'false', 'true', 'true', 'false', 'true', 'false', 'true', 'false', 'true', 'false', 'true', 'false', 'false', 'true', 'false', 'true', 'false', 'true', 'false', 'true', 'false', 'true', 'false', 'true', 'true', 'false', 'true', 'false', 'true', 'false', 'true', 'false', 'true', 'false', 'false', 'true', 'false', 'true', 'false', 'true', 'false', 'true', 'false', 'true', 'false', 'true', 'true', 'true', 'false', 'true', 'false', 'true', 'false', 'true', 'false', 'true', 'false', 'false', 'true', 'false', 'true', 'false', 'true', 'false', 'true', 'false', 'true', 'false', 'true', 'true', 'false', 'true', 'false', 'true', 'false', 'true', 'false', 'true', 'false', 'false', 'true', 'false', 'true', 'false', 'true', 'false', 'true', 'false', 'true', 'false', 'true', 'true', 'false', 'true', 'false', 'true', 'false', 'true', 'false', 'true', 'false', 'false', 'true', 'false', 'true', 'false', 'true', 'false', 'true', 'false', 'true', 'false', 'true', 'true', 'false', 'true', 'false', 'true', 'false', 'true', 'false', 'true', 'false', 'false', 'true', 'false', 'true', 'false', 'true', 'false', 'true', 'false', 'true', 'false', 'true', 'true', 'false', 'true', 'false', 'true', 'false', 'true', 'false', 'true', 'false', 'false', 'true', 'false', 'true', 'false', 'true', 'false', 'true', 'false', 'true', 'false', 'false', 'true', 'true', 'false', 'true', 'false', 'true', 'false', 'true', 'false', 'true', 'false', 'false', 'true', 'false', 'true', 'false', 'true', 'false', 'true', 'false', 'true', 'false', 'true', 'true', 'false', 'true', 'false', 'true', 'false', 'true', 'false', 'true', 'false', 'false', 'true', 'false', 'true', 'false', 'true', 'false', 'true', 'false', 'true', 'false', 'true', 'true', 'false', 'true', 'false', 'true', 'false', 'true', 'false', 'true', 'false', 'false', 'true', 'false', 'true', 'false', 'true', 'false', 'true', 'false', 'true', 'false', 'true', 'true', 'false', 'true', 'false', 'true', 'false', 'true', 'false', 'true', 'false', 'false', 'true', 'false', 'true', 'false', 'true', 'false', 'true', 'false', 'true', 'false', 'true', 'true', 'false', 'true', 'false', 'true', 'false', 'true', 'false', 'true', 'false', 'false', 'true', 'false', 'true', 'false', 'true', 'false', 'true', 'false', 'true', 'false', 'true', 'true', 'true', 'false', 'true', 'false', 'true', 'false', 'true', 'false', 'true', 'false', 'false', 'true', 'false', 'true', 'false', 'true', 'false', 'true', 'false', 'true', 'false', 'true', 'true', 'false', 'true', 'false', 'true', 'false', 'true', 'false', 'true', 'false', 'false', 'true', 'false', 'true', 'false', 'true', 'false', 'true', 'false', 'true', 'false', 'true', 'true', 'false', 'true', 'false', 'true', 'false', 'true', 'false', 'true', 'false', 'false', 'true', 'false', 'true', 'false', 'true', 'false', 'true', 'false', 'true', 'false', 'true', 'true', 'false', 'true', 'false', 'true', 'false', 'true', 'false', 'true', 'false', 'false', 'true', 'false', 'true', 'false', 'true', 'false', 'true', 'false', 'true', 'false', 'true', 'true', 'false', 'true', 'false', 'true', 'false', 'true', 'false', 'true', 'false', 'false', 'true', 'false', 'true', 'false', 'true', 'false', 'true', 'false', 'true', 'false', 'false', 'true', 'true', 'false', 'true', 'false', 'true', 'false', 'true', 'false', 'true', 'false', 'false', 'true', 'false', 'true', 'false', 'true', 'false', 'true', 'false', 'true', 'false', 'true', 'true', 'false', 'true', 'false', 'true', 'false', 'true', 'false', 'true', 'false', 'false', 'true', 'false', 'true', 'false', 'true', 'false', 'true', 'false', 'true', 'false', 'true', 'true', 'false', 'true', 'false', 'true', 'false', 'true', 'false', 'true', 'false', 'false', 'true', 'false', 'true', 'false', 'true', 'false', 'true', 'false', 'true', 'false', 'true', 'true', 'false', 'true', 'false', 'true', 'false', 'true', 'false', 'true', 'false', 'false', 'true', 'false', 'true', 'false', 'true', 'false', 'true', 'false', 'true', 'false', 'true', 'true', 'false', 'true', 'false', 'true', 'false', 'true', 'false', 'true', 'false', 'false', 'true', 'false', 'true', 'false', 'true', 'false', 'true', 'false', 'true', 'false', 'true', 'true', 'true', 'false', 'true', 'false', 'true', 'false', 'true', 'false', 'true', 'false', 'false', 'true', 'false', 'true', 'false', 'true', 'false', 'true', 'false', 'true', 'false', 'true', 'true', 'false', 'true', 'false', 'true', 'false', 'true', 'false', 'true', 'false', 'false', 'true', 'false', 'true', 'false', 'true', 'false', 'true', 'false', 'true', 'false', 'true', 'true', 'false', 'true', 'false', 'true', 'false', 'true', 'false', 'true', 'false', 'false', 'true', 'false', 'true', 'false', 'true', 'false', 'true', 'false', 'true', 'false', 'true', 'true', 'false', 'true', 'false', 'true', 'false', 'true', 'false', 'true', 'false', 'false', 'true', 'false', 'true', 'false', 'true', 'false', 'true', 'false', 'true', 'false', 'true', 'true', 'false', 'true', 'false', 'true', 'false', 'true', 'false', 'true', 'false', 'false', 'true', 'false', 'true', 'false', 'true', 'false', 'true', 'false', 'true', 'false', 'false', 'true', 'true', 'false', 'true', 'false', 'true', 'false', 'true', 'false', 'true', 'false', 'false', 'true', 'false', 'true', 'false', 'true', 'false', 'true', 'false', 'true', 'false', 'true', 'true', 'false', 'true', 'false', 'true', 'false', 'true', 'false', 'true', 'true', 'false', 'true', 'false', 'true', 'false', 'true', 'false', 'true', 'false', 'false', 'true', 'false', 'true', 'false', 'true', 'false', 'true', 'false', 'true', 'false'] ['Propane', 'Propane', 'Propane', 'Propane', 'Propane', 'Propane', 'Propane', 'Propane', 'Propane', 'Propane', 'Propane', 'Propane', 'Propane', 'Propane', 'Propane', 'Propane', 'Propane', 'Propane', 'Propane', 'Propane', 'Propane', 'Propane', 'Propane', 'Propane', 'Propane', 'Charcoal', 'Charcoal', 'Charcoal', 'Charcoal', 'Charcoal', 'Charcoal', 'Charcoal', 'Charcoal', 'Charcoal', 'Propane', 'Charcoal', 'Charcoal', 'Charcoal', 'Charcoal', 'Charcoal', 'Charcoal', 'Charcoal', 'Charcoal', 'Charcoal', 'Charcoal', 'Propane', 'Charcoal', 'Charcoal', 'Charcoal', 'Charcoal', 'Charcoal', 'Charcoal', 'Charcoal', 'Charcoal', 'Charcoal', 'Charcoal', 'Propane', 'Charcoal', 'Charcoal', 'Charcoal', 'Charcoal', 'Charcoal', 'Charcoal', 'Charcoal', 'Charcoal', 'Charcoal', 'Charcoal', 'Propane', 'Charcoal', 'Charcoal', 'Charcoal', 'Charcoal', 'Charcoal', 'Charcoal', 'Charcoal', 'Charcoal', 'Charcoal', 'Charcoal', 'Propane', 'Charcoal', 'Charcoal', 'Charcoal', 'Charcoal', 'Charcoal', 'Charcoal', 'Charcoal', 'Charcoal', 'Charcoal', 'Charcoal', 'Propane', 'Charcoal', 'Charcoal', 'Charcoal', 'Charcoal', 'Charcoal', 'Charcoal', 'Charcoal', 'Charcoal', 'Charcoal', 'Charcoal', 'Propane', 'Charcoal', 'Charcoal', 'Charcoal', 'Charcoal', 'Charcoal', 'Charcoal', 'Charcoal', 'Charcoal', 'Charcoal', 'Charcoal', 'Propane', 'Propane', 'Charcoal', 'Charcoal', 'Charcoal', 'Charcoal', 'Charcoal', 'Charcoal', 'Charcoal', 'Charcoal', 'Charcoal', 'Charcoal', 'Propane', 'Charcoal', 'Charcoal', 'Charcoal', 'Charcoal', 'Charcoal', 'Charcoal', 'Charcoal', 'Charcoal', 'Charcoal', 'Charcoal', 'Propane', 'Charcoal', 'Charcoal', 'Charcoal', 'Charcoal', 'Charcoal', 'Charcoal', 'Charcoal', 'Charcoal', 'Charcoal', 'Charcoal', 'Propane', 'Charcoal', 'Charcoal', 'Charcoal', 'Charcoal', 'Charcoal', 'Charcoal', 'Charcoal', 'Charcoal', 'Charcoal', 'Charcoal', 'Propane', 'Charcoal', 'Propane', 'Propane', 'Propane', 'Propane', 'Propane', 'Propane', 'Propane', 'Propane', 'Propane', 'Propane', 'Propane', 'Propane', 'Propane', 'Propane', 'Propane', 'Propane', 'Propane', 'Propane', 'Propane', 'Propane', 'Propane', 'Propane', 'Propane', 'Propane', 'Propane', 'Propane', 'Propane', 'Propane', 'Propane', 'Propane', 'Propane', 'Propane', 'Propane', 'Propane', 'Propane', 'Propane', 'Propane', 'Propane', 'Propane', 'Propane', 'Propane', 'Propane', 'Propane', 'Propane', 'Propane', 'Propane', 'Propane', 'Propane', 'Propane', 'Propane', 'Propane', 'Propane', 'Propane', 'Propane', 'Propane', 'Propane', 'Propane', 'Propane', 'Propane', 'Propane', 'Propane', 'Propane', 'Propane', 'Propane', 'Propane', 'Propane', 'Propane', 'Propane', 'Propane', 'Propane', 'Propane', 'Propane', 'Propane', 'Propane', 'Propane', 'Propane', 'Propane', 'Propane', 'Propane', 'Propane', 'Propane', 'Propane', 'Propane', 'Propane', 'Propane', 'Propane', 'Propane', 'Propane', 'Propane', 'Propane', 'Propane', 'Propane', 'Propane', 'Propane', 'Propane', 'Propane', 'Propane', 'Propane', 'Propane', 'Propane', 'Propane', 'Propane', 'Propane', 'Propane', 'Propane', 'Propane', 'Propane', 'Propane', 'Propane', 'Propane', 'Propane', 'Propane', 'Propane', 'Propane', 'Propane', 'Propane', 'Propane', 'Propane', 'Propane', 'Propane', 'Propane', 'Propane', 'Propane', 'Propane', 'Propane', 'Propane', 'Propane', 'Propane', 'Propane', 'Propane', 'Propane', 'Propane', 'Propane', 'Charcoal', 'Charcoal', 'Charcoal', 'Charcoal', 'Charcoal', 'Charcoal', 'Charcoal', 'Charcoal', 'Charcoal', 'Propane', 'Charcoal', 'Charcoal', 'Charcoal', 'Charcoal', 'Charcoal', 'Charcoal', 'Charcoal', 'Charcoal', 'Charcoal', 'Charcoal', 'Propane', 'Charcoal', 'Charcoal', 'Charcoal', 'Charcoal', 'Charcoal', 'Charcoal', 'Charcoal', 'Charcoal', 'Charcoal', 'Charcoal', 'Propane', 'Charcoal', 'Charcoal', 'Charcoal', 'Charcoal', 'Charcoal', 'Charcoal', 'Charcoal', 'Charcoal', 'Charcoal', 'Charcoal', 'Propane', 'Propane', 'Charcoal', 'Charcoal', 'Charcoal', 'Charcoal', 'Charcoal', 'Charcoal', 'Charcoal', 'Charcoal', 'Charcoal', 'Charcoal', 'Propane', 'Charcoal', 'Charcoal', 'Charcoal', 'Charcoal', 'Charcoal', 'Charcoal', 'Charcoal', 'Charcoal', 'Charcoal', 'Charcoal', 'Propane', 'Charcoal', 'Charcoal', 'Charcoal', 'Charcoal', 'Charcoal', 'Charcoal', 'Charcoal', 'Charcoal', 'Charcoal', 'Charcoal', 'Propane', 'Charcoal', 'Charcoal', 'Charcoal', 'Charcoal', 'Charcoal', 'Charcoal', 'Charcoal', 'Charcoal', 'Charcoal', 'Charcoal', 'Propane', 'Charcoal', 'Charcoal', 'Charcoal', 'Charcoal', 'Charcoal', 'Charcoal', 'Charcoal', 'Charcoal', 'Charcoal', 'Charcoal', 'Propane', 'Charcoal', 'Charcoal', 'Charcoal', 'Charcoal', 'Charcoal', 'Charcoal', 'Charcoal', 'Charcoal', 'Charcoal', 'Charcoal', 'Propane', 'Charcoal', 'Charcoal', 'Charcoal', 'Charcoal', 'Charcoal', 'Charcoal', 'Charcoal', 'Charcoal', 'Charcoal', 'Charcoal', 'Propane', 'Charcoal', 'Charcoal', 'Charcoal', 'Charcoal', 'Charcoal', 'Charcoal', 'Charcoal', 'Charcoal', 'Charcoal', 'Charcoal', 'Propane', 'Charcoal', 'Propane', 'Propane', 'Propane', 'Propane', 'Propane', 'Propane', 'Propane', 'Propane', 'Propane', 'Propane', 'Propane', 'Propane', 'Propane', 'Propane', 'Propane', 'Propane', 'Propane', 'Propane', 'Propane', 'Propane', 'Propane', 'Propane', 'Propane', 'Propane', 'Propane', 'Propane', 'Propane', 'Propane', 'Propane', 'Propane', 'Propane', 'Propane', 'Propane', 'Propane', 'Propane', 'Propane', 'Propane', 'Propane', 'Propane', 'Propane', 'Propane', 'Propane', 'Propane', 'Propane', 'Propane', 'Propane', 'Propane', 'Propane', 'Propane', 'Propane', 'Propane', 'Propane', 'Propane', 'Propane', 'Propane', 'Propane', 'Propane', 'Propane', 'Propane', 'Propane', 'Propane', 'Propane', 'Propane', 'Propane', 'Propane', 'Propane', 'Propane', 'Propane', 'Propane', 'Propane', 'Propane', 'Propane', 'Propane', 'Propane', 'Propane', 'Propane', 'Propane', 'Propane', 'Propane', 'Propane', 'Propane', 'Propane', 'Propane', 'Propane', 'Propane', 'Propane', 'Propane', 'Propane', 'Propane', 'Propane', 'Propane', 'Propane', 'Propane', 'Propane', 'Propane', 'Propane', 'Propane', 'Propane', 'Propane', 'Propane', 'Propane', 'Propane', 'Propane', 'Propane', 'Propane', 'Propane', 'Propane', 'Propane', 'Propane', 'Propane', 'Propane', 'Propane', 'Propane', 'Propane', 'Propane', 'Propane', 'Propane', 'Propane', 'Propane', 'Propane', 'Propane', 'Propane', 'Propane', 'Propane', 'Propane', 'Propane', 'Propane', 'Propane', 'Propane', 'Propane', 'Propane', 'Propane', 'Propane', 'Propane', 'Charcoal', 'Charcoal', 'Charcoal', 'Charcoal', 'Charcoal', 'Charcoal', 'Charcoal', 'Charcoal', 'Charcoal', 'Propane', 'Charcoal', 'Charcoal', 'Charcoal', 'Charcoal', 'Charcoal', 'Charcoal', 'Charcoal', 'Charcoal', 'Charcoal', 'Charcoal', 'Propane', 'Charcoal', 'Charcoal', 'Charcoal', 'Charcoal', 'Charcoal', 'Charcoal', 'Charcoal', 'Charcoal', 'Charcoal', 'Charcoal', 'Propane', 'Charcoal', 'Charcoal', 'Charcoal', 'Charcoal', 'Charcoal', 'Charcoal', 'Charcoal', 'Charcoal', 'Charcoal', 'Charcoal', 'Propane', 'Charcoal', 'Charcoal', 'Charcoal', 'Charcoal', 'Charcoal', 'Charcoal', 'Charcoal', 'Charcoal', 'Charcoal', 'Charcoal', 'Propane', 'Charcoal', 'Charcoal', 'Charcoal', 'Charcoal', 'Charcoal', 'Charcoal', 'Charcoal', 'Charcoal', 'Charcoal', 'Charcoal', 'Propane', 'Charcoal', 'Charcoal', 'Charcoal', 'Charcoal', 'Charcoal', 'Charcoal', 'Charcoal', 'Charcoal', 'Charcoal', 'Charcoal', 'Propane', 'Charcoal', 'Charcoal', 'Charcoal', 'Charcoal', 'Charcoal', 'Charcoal', 'Charcoal', 'Charcoal', 'Charcoal', 'Charcoal', 'Propane', 'Charcoal', 'Charcoal', 'Charcoal', 'Charcoal', 'Charcoal', 'Charcoal', 'Charcoal', 'Charcoal', 'Charcoal', 'Charcoal', 'Propane', 'Charcoal', 'Charcoal', 'Charcoal', 'Charcoal', 'Charcoal', 'Charcoal', 'Charcoal', 'Charcoal', 'Charcoal', 'Charcoal', 'Propane', 'Propane', 'Charcoal', 'Charcoal', 'Charcoal', 'Charcoal', 'Charcoal', 'Charcoal', 'Charcoal', 'Charcoal', 'Charcoal', 'Charcoal', 'Propane', 'Charcoal', 'Charcoal', 'Charcoal', 'Charcoal', 'Charcoal', 'Charcoal', 'Charcoal', 'Charcoal', 'Charcoal', 'Charcoal', 'Propane', 'Charcoal', 'Propane', 'Propane', 'Propane', 'Propane', 'Propane', 'Propane', 'Propane', 'Propane', 'Propane', 'Propane', 'Propane', 'Propane', 'Propane', 'Propane', 'Propane', 'Propane', 'Propane', 'Propane', 'Propane', 'Propane', 'Propane', 'Propane', 'Propane', 'Propane', 'Propane', 'Propane', 'Propane', 'Propane', 'Propane'] ['0.4', '1.0', '0.0', '0.0', '0.4', '0.6', '0.9', '0.1', '0.3', '1.0', '0.3', '0.3', '1.1', '0.0', '0.1', '0.0', '0.3', '1.0', '0.2', '0.8', '0.1', '0.0', '0.5', '0.7', '0.5', '5.1', '5.1', '5.0', '5.3', '5.1', '5.2', '5.4', '5.2', '5.1', '1.1', '5.4', '5.2', '5.2', '5.2', '5.1', '5.2', '5.1', '5.3', '5.2', '5.2', '1.1', '5.3', '5.2', '5.3', '5.0', '5.4', '5.1', '5.4', '5.2', '5.2', '5.3', '0.4', '5.3', '5.1', '5.0', '5.0', '5.3', '5.3', '5.0', '5.2', '5.1', '5.2', '0.4', '5.2', '5.3', '5.3', '5.2', '5.2', '5.0', '5.3', '5.3', '5.1', '5.1', '0.9', '5.2', '5.2', '5.0', '5.1', '5.1', '5.2', '5.0', '5.3', '5.0', '5.2', '1.1', '5.0', '5.3', '5.0', '5.2', '5.4', '5.5', '5.4', '5.1', '5.0', '5.2', '0.2', '5.5', '5.3', '5.6', '5.4', '5.1', '5.3', '5.6', '5.5', '5.0', '5.6', '0.8', '0.3', '5.2', '5.0', '5.3', '5.6', '5.1', '5.2', '5.5', '5.6', '5.5', '5.0', '0.7', '5.0', '5.2', '5.2', '5.1', '5.0', '5.2', '5.2', '5.0', '5.2', '5.2', '0.1', '5.2', '5.0', '5.1', '5.1', '5.1', '5.2', '5.1', '5.2', '5.2', '5.2', '1.0', '5.0', '5.1', '5.0', '5.1', '5.2', '5.0', '5.0', '5.0', '5.1', '5.1', '0.7', '5.2', '0.0', '0.9', '0.8', '0.8', '1.1', '1.2', '0.6', '1.0', '0.1', '0.9', '1.1', '0.2', '1.1', '0.9', '0.4', '0.2', '1.0', '0.6', '0.6', '0.2', '1.0', '0.6', '0.9', '0.0', '1.2', '0.7', '1.0', '1.0', '1.1', '0.3', '1.1', '1.1', '0.2', '0.8', '0.8', '0.6', '0.7', '0.4', '0.7', '0.7', '0.1', '0.0', '0.4', '0.2', '0.2', '0.8', '0.5', '0.4', '0.3', '0.4', '0.5', '0.4', '0.6', '0.9', '0.1', '0.0', '0.2', '0.2', '1.0', '0.3', '0.1', '0.4', '0.8', '0.9', '0.6', '0.8', '0.3', '0.3', '0.1', '0.4', '0.0', '0.5', '0.4', '0.2', '0.1', '0.7', '1.0', '0.7', '0.7', '0.2', '0.6', '0.6', '0.1', '0.7', '0.2', '0.7', '0.3', '0.2', '0.7', '0.7', '0.0', '0.1', '0.2', '0.5', '0.3', '0.5', '0.7', '0.6', '0.7', '0.3', '1.1', '0.1', '0.2', '1.1', '1.2', '0.7', '0.5', '0.0', '1.1', '0.5', '0.1', '0.7', '0.4', '0.1', '0.1', '0.3', '1.0', '0.4', '0.1', '0.2', '0.8', '0.8', '0.6', '1.2', '1.1', '1.3', '0.4', '0.9', '1.0', '0.3', '0.2', '0.4', '1.0', '0.3', '0.3', '0.3', '0.3', '0.0', '0.0', '0.2', '0.1', '0.0', '0.2', '0.0', '0.1', '0.4', '0.0', '0.3', '0.1', '0.3', '0.2', '0.1', '0.3', '0.3', '0.4', '0.3', '0.4', '0.3', '0.1', '0.0', '0.0', '0.0', '0.0', '0.4', '0.2', '0.2', '0.4', '0.1', '0.4', '0.0', '0.2', '0.1', '0.0', '0.0', '0.0', '0.0', '0.9', '0.4', '0.0', '0.0', '0.1', '0.0', '0.0', '0.1', '0.4', '0.3', '0.4', '0.9', '0.3', '0.0', '0.1', '0.0', '0.1', '0.3', '0.0', '0.1', '0.0', '0.1', '0.9', '0.2', '0.1', '0.1', '0.0', '0.0', '0.0', '0.0', '0.0', '0.0', '0.0', '0.6', '0.1', '0.0', '0.0', '0.0', '0.0', '0.0', '0.0', '0.1', '0.0', '0.1', '0.6', '0.1', '0.0', '0.1', '0.1', '0.0', '0.0', '0.1', '0.0', '0.0', '0.0', '0.4', '0.1', '0.2', '0.4', '0.1', '0.0', '0.4', '0.0', '0.5', '0.4', '0.0', '0.5', '0.5', '0.0', '0.5', '0.2', '0.5', '0.6', '0.2', '0.3', '0.4', '0.2', '0.5', '0.4', '0.1', '0.2', '0.2', '0.2', '0.6', '0.1', '0.3', '0.5', '0.2', '0.1', '0.6', '5.7', '5.2', '5.6', '5.9', '5.0', '5.9', '5.5', '5.9', '5.8', '0.9', '5.2', '5.1', '5.7', '5.8', '5.1', '5.2', '5.6', '5.6', '5.9', '6.0', '0.2', '0.6', '5.9', '6.0', '5.8', '6.0', '6.1', '5.5', '5.8', '5.0', '5.3', '5.4', '0.2', '5.7', '6.0', '6.0', '5.2', '5.4', '5.3', '5.6', '6.1', '5.8', '5.3', '0.7', '5.2', '6.0', '6.2', '5.2', '5.6', '6.1', '5.3', '5.0', '6.1', '6.0', '0.6', '5.5', '5.5', '5.0', '6.1', '5.5', '5.5', '5.2', '6.2', '6.1', '5.8', '1.0', '5.1', '6.1', '5.1', '6.2', '5.4', '5.1', '6.0', '5.2', '5.8', '6.0', '0.9', '5.1', '6.1', '5.4', '5.3', '5.3', '5.7', '6.1', '5.9', '6.1', '5.4', '0.7', '6.3', '6.0', '5.6', '5.5', '6.3', '5.0', '6.1', '5.0', '5.2', '6.1', '0.1', '5.5', '5.9', '5.0', '5.1', '5.7', '5.4', '5.0', '5.0', '6.0', '5.3', '0.5', '5.3', '5.3', '5.1', '5.8', '5.2', '5.7', '5.0', '5.3', '5.2', '5.7', '1.0', '6.0', '5.5', '5.6', '5.3', '5.6', '5.2', '6.2', '5.5', '6.0', '5.2', '0.4', '0.2', '5.3', '0.1', '0.5', '0.5', '0.4', '0.2', '0.1', '0.3', '0.0', '0.0', '0.3', '0.5', '0.3', '0.2', '0.3', '0.3', '0.3', '0.2', '0.2', '0.3', '0.5', '0.7', '0.3', '0.3', '0.2', '0.4', '0.4', '0.2', '0.1', '0.5', '0.4', '0.4', '0.4', '0.5', '0.4', '0.0', '0.1', '0.3', '0.4', '0.1', '0.2', '0.4', '0.4', '0.1', '0.0', '0.2', '0.1', '0.2', '0.2', '0.4', '0.2', '0.3', '0.0', '0.4', '0.1', '0.2', '0.2', '0.3', '0.3', '0.4', '0.4', '0.2', '0.2', '0.0', '0.1', '0.1', '0.2', '0.0', '0.1', '0.1', '0.0', '0.1', '0.1', '0.1', '0.0', '0.1', '0.6', '0.1', '0.0', '0.0', '0.1', '0.1', '0.0', '0.0', '0.0', '0.1', '0.1', '0.8', '0.1', '0.0', '0.0', '0.0', '0.0', '0.0', '0.1', '0.1', '0.1', '0.0', '1.1', '0.0', '0.2', '0.1', '0.2', '0.1', '0.0', '0.0', '0.3', '0.3', '0.0', '0.3', '0.8', '0.2', '0.3', '0.2', '0.0', '0.1', '0.0', '0.1', '0.2', '0.1', '0.3', '0.5', '0.0', '0.1', '0.1', '0.0', '0.2', '0.3', '0.3', '0.1', '0.3', '0.2', '0.7', '0.0', '0.3', '0.0', '0.9', '0.3', '0.4', '0.8', '0.5', '0.8', '0.4', '0.8', '1.2', '1.1', '1.2', '0.9', '0.6', '0.2', '0.5', '0.0', '0.7', '0.6', '0.9', '0.9', '0.0', '0.3', '0.2', '0.3', '0.2', '0.9', '0.7'] ['true', 'true', 'true', 'true', 'true', 'true', 'true', 'true', 'true', 'true', 'true', 'true', 'true', 'true', 'true', 'false', 'true', 'true', 'true', 'true', 'false', 'true', 'true', 'true', 'false', 'true', 'true', 'true', 'true', 'false', 'true', 'true', 'true', 'true', 'true', 'true', 'true', 'true', 'true', 'true', 'true', 'true', 'true', 'true', 'true', 'true', 'true', 'true', 'true', 'true', 'true', 'true', 'true', 'true', 'true', 'true', 'true', 'false', 'true', 'true', 'true', 'true', 'true', 'true', 'true', 'true', 'true', 'true', 'true', 'true', 'true', 'true', 'true', 'true', 'true', 'true', 'true', 'true', 'true', 'true', 'true', 'true', 'true', 'true', 'true', 'true', 'true', 'true', 'true', 'true', 'true', 'true', 'true', 'true', 'true', 'true', 'true', 'true', 'true', 'true', 'true', 'true', 'true', 'true', 'true', 'true', 'true', 'true', 'true', 'true', 'true', 'true', 'true', 'true', 'false', 'true', 'true', 'true', 'true', 'true', 'true', 'true', 'true', 'true', 'true', 'true', 'true', 'false', 'true', 'false', 'true', 'false', 'true', 'true', 'false', 'true', 'true', 'true', 'true', 'true', 'true', 'true', 'true', 'true', 'true', 'true', 'true', 'true', 'true', 'true', 'true', 'true', 'true', 'true', 'true', 'false', 'false', 'true', 'true', 'true', 'true', 'true', 'true', 'true', 'true', 'true', 'true', 'true', 'true', 'true', 'true', 'true', 'true', 'true', 'true', 'true', 'true', 'true', 'true', 'true', 'true', 'true', 'true', 'true', 'true', 'false', 'false', 'true', 'true', 'true', 'true', 'true', 'true', 'true', 'true', 'true', 'true', 'true', 'true', 'true', 'false', 'false', 'true', 'true', 'true', 'true', 'true', 'true', 'true', 'true', 'true', 'true', 'true', 'true', 'true', 'true', 'true', 'false', 'true', 'true', 'true', 'true', 'true', 'true', 'true', 'true', 'false', 'true', 'true', 'true', 'true', 'false', 'true', 'true', 'true', 'false', 'true', 'true', 'true', 'true', 'true', 'true', 'true', 'true', 'false', 'true', 'false', 'true', 'false', 'true', 'true', 'true', 'true', 'true', 'true', 'true', 'true', 'true', 'true', 'true', 'true', 'true', 'true', 'true', 'false', 'true', 'true', 'true', 'true', 'false', 'true', 'true', 'false', 'true', 'true', 'true', 'true', 'true', 'true', 'true', 'true', 'true', 'true', 'false', 'true', 'true', 'true', 'true', 'true', 'true', 'true', 'true', 'true', 'true', 'true', 'true', 'true', 'true', 'true', 'true', 'true', 'true', 'true', 'true', 'false', 'true', 'true', 'true', 'true', 'true', 'true', 'true', 'true', 'false', 'true', 'true', 'true', 'true', 'true', 'true', 'true', 'true', 'true', 'true', 'true', 'true', 'true', 'true', 'true', 'true', 'true', 'true', 'true', 'false', 'true', 'false', 'true', 'false', 'false', 'true', 'true', 'true', 'true', 'true', 'true', 'true', 'true', 'true', 'true', 'true', 'true', 'true', 'true', 'true', 'true', 'true', 'true', 'true', 'true', 'true', 'true', 'true', 'false', 'true', 'true', 'true', 'true', 'true', 'true', 'true', 'false', 'true', 'true', 'true', 'true', 'true', 'true', 'true', 'true', 'true', 'true', 'true', 'true', 'true', 'true', 'true', 'false', 'true', 'true', 'true', 'true', 'true', 'false', 'true', 'false', 'true', 'true', 'true', 'true', 'true', 'true', 'true', 'true', 'false', 'true', 'false', 'true', 'true', 'true', 'true', 'true', 'false', 'true', 'true', 'true', 'true', 'true', 'true', 'true', 'true', 'true', 'true', 'true', 'false', 'true', 'true', 'true', 'true', 'true', 'true', 'true', 'true', 'true', 'true', 'true', 'true', 'true', 'false', 'true', 'true', 'true', 'true', 'true', 'true', 'false', 'true', 'true', 'true', 'true', 'true', 'true', 'true', 'true', 'true', 'true', 'true', 'true', 'false', 'true', 'true', 'true', 'true', 'true', 'true', 'true', 'true', 'true', 'true', 'true', 'true', 'true', 'true', 'true', 'true', 'true', 'true', 'true', 'true', 'true', 'true', 'true', 'true', 'true', 'false', 'true', 'true', 'true', 'true', 'true', 'true', 'true', 'true', 'true', 'true', 'true', 'true', 'true', 'true', 'true', 'true', 'false', 'true', 'true', 'true', 'true', 'true', 'true', 'true', 'true', 'true', 'true', 'true', 'true', 'true', 'true', 'true', 'true', 'false', 'true', 'true', 'true', 'true', 'true', 'true', 'true', 'true', 'true', 'true', 'true', 'true', 'true', 'true', 'true', 'true', 'true', 'true', 'true', 'true', 'true', 'true', 'true', 'true', 'true', 'true', 'true', 'true', 'true', 'true', 'true', 'true', 'true', 'true', 'true', 'true', 'true', 'true', 'true', 'true', 'true', 'true', 'true', 'true', 'true', 'true', 'true', 'true', 'true', 'false', 'true', 'true', 'false', 'true', 'true', 'true', 'true', 'true', 'true', 'true', 'false', 'false', 'true', 'true', 'true', 'true', 'true', 'true', 'true', 'true', 'true', 'true', 'true', 'true', 'true', 'true', 'true', 'true', 'false', 'true', 'true', 'true', 'false', 'true', 'true', 'true', 'true', 'true', 'true', 'false', 'true', 'true', 'true', 'true', 'false', 'false', 'true', 'true', 'true', 'true', 'true', 'false', 'true', 'true', 'false', 'true', 'false', 'true', 'true', 'true', 'false', 'false', 'true', 'true', 'false', 'true', 'true', 'true', 'true', 'true', 'true', 'true', 'true', 'false', 'true', 'true', 'false', 'true', 'true', 'true', 'true', 'false', 'false', 'true', 'false', 'true', 'true', 'true', 'true', 'true', 'true', 'false', 'true', 'true', 'true', 'true', 'true', 'true', 'true', 'false', 'true', 'true', 'true', 'true', 'true', 'true', 'true', 'false', 'true', 'true', 'true', 'true', 'true', 'true', 'true', 'true', 'true', 'true', 'false', 'true', 'true', 'true', 'true', 'true', 'true', 'true', 'true', 'true', 'true', 'false', 'true', 'true', 'true', 'true', 'true', 'true', 'true', 'true', 'true', 'true', 'false', 'false', 'false', 'true', 'false', 'true', 'true', 'true', 'true', 'true', 'true', 'true']\n"
     ]
    }
   ],
   "source": [
    "# 9. Transform SheetC.json to SheetC.csv\n",
    "\n",
    "with open('SheetC.json') as json_file: # opening the json file \n",
    "    data = json.load(json_file) # getting the data in a variable by reading json data\n",
    "a = data[0]['test_result'] # getting into the list of dictionary and getting rid of the 'test_result' attribute we didn't want\n",
    "\n",
    "# the required lists will have values for the repective columns\n",
    "sample_item_index = []\n",
    "item_material = []\n",
    "is_frozen = []\n",
    "grill_type = []\n",
    "thumbs_up_score = []\n",
    "guess_grill_correct = []\n",
    "\n",
    "\n",
    "a_json = json.loads(a) # converting json string to python dictionary\n",
    "\n",
    "\n",
    "for key, value in a_json.items(): # getting the key value pair in the dictionary\n",
    "    for k, v in value.items(): # getting further the key value in the values dictionary\n",
    "        if k == 'meta_data': # filtering data that we do not want as headers or values\n",
    "            grill_type.append(v['grill_type'])\n",
    "            is_frozen.append(v['is_frozen'])\n",
    "            item_material.append(v['item_material'])\n",
    "        if k == 'sample_item_index':\n",
    "            sample_item_index.append(v)\n",
    "        if k == 'survey_result':\n",
    "            guess_grill_correct.append(v['guess_grill_correct'])\n",
    "            thumbs_up_score.append(v['thumbs_up_score'])   "
   ]
  },
  {
   "cell_type": "code",
   "execution_count": 147,
   "id": "serial-standard",
   "metadata": {},
   "outputs": [],
   "source": [
    "import pandas as pd\n",
    "  \n",
    "# specifying the column names aas required in the final csv\n",
    "col_names =  ['sample_item_index', 'item_material', 'is_frozen', 'grill_type', 'thumbs_up_score', 'guess_grill_correct']\n",
    "\n",
    "# creating an empty dataframe with the specified columns\n",
    "my_df  = pd.DataFrame(columns = col_names)\n",
    "\n",
    "# specifying the lists respective to each column that hold all values for each column\n",
    "my_df = pd.DataFrame({'sample_item_index': sample_item_index, \n",
    "                      'item_material': item_material, \n",
    "                      'is_frozen': is_frozen, \n",
    "                     'grill_type':grill_type, \n",
    "                     'thumbs_up_score': thumbs_up_score, \n",
    "                     'guess_grill_correct': guess_grill_correct}, ) \n",
    "\n",
    "# finally converting all data to csv\n",
    "my_df.to_csv('FinalConvertedData.csv', index=False)"
   ]
  }
 ],
 "metadata": {
  "kernelspec": {
   "display_name": "Python 3",
   "language": "python",
   "name": "python3"
  },
  "language_info": {
   "codemirror_mode": {
    "name": "ipython",
    "version": 3
   },
   "file_extension": ".py",
   "mimetype": "text/x-python",
   "name": "python",
   "nbconvert_exporter": "python",
   "pygments_lexer": "ipython3",
   "version": "3.8.6"
  }
 },
 "nbformat": 4,
 "nbformat_minor": 5
}
